{
 "cells": [
  {
   "cell_type": "code",
   "execution_count": null,
   "id": "6e61dc35",
   "metadata": {
    "colab": {
     "base_uri": "https://localhost:8080/"
    },
    "executionInfo": {
     "elapsed": 124853,
     "status": "ok",
     "timestamp": 1678289564288,
     "user": {
      "displayName": "Aseer Ahmad Ansari",
      "userId": "01017471024995295219"
     },
     "user_tz": -60
    },
    "id": "_oaOzJGQuOc7",
    "outputId": "5d36d22a-c022-4031-9e47-7210ccfaeab8"
   },
   "outputs": [
    {
     "name": "stdout",
     "output_type": "stream",
     "text": [
      "Mounted at /content/drive\n"
     ]
    }
   ],
   "source": [
    "from google.colab import drive\n",
    "drive.mount('/content/drive')"
   ]
  },
  {
   "cell_type": "code",
   "execution_count": null,
   "id": "fb6d2f33",
   "metadata": {
    "colab": {
     "base_uri": "https://localhost:8080/"
    },
    "executionInfo": {
     "elapsed": 21,
     "status": "ok",
     "timestamp": 1678289631341,
     "user": {
      "displayName": "Aseer Ahmad Ansari",
      "userId": "01017471024995295219"
     },
     "user_tz": -60
    },
    "id": "aV3YyvnguQNH",
    "outputId": "35f07725-b6eb-4f60-de1f-7b59ec49c63a"
   },
   "outputs": [
    {
     "name": "stdout",
     "output_type": "stream",
     "text": [
      "/content/drive/MyDrive/Colab Notebooks/NNTI 22-23\n"
     ]
    }
   ],
   "source": [
    "%cd drive/MyDrive/'Colab Notebooks'/'NNTI 22-23'"
   ]
  },
  {
   "cell_type": "markdown",
   "id": "f897f6ad",
   "metadata": {
    "id": "454e0124"
   },
   "source": [
    "# Speaker-Independent Spoken Digit Recognition (xSDR)\n",
    "\n",
    "\n",
    "One of the successful stories of deep neural networks is the proliferation of commercial of automatic speech recognition (ASR) systems. This project aims to explore one application of ML-powered ASR to the problem of spoken digit recognition (SDR). Since digits are widely used as unique identifiers for bank information, social security numbers, post codes, etc, SDR systems can be an efficient alternative to fully-fledged ASR systems since the domain is more predictable than other applications of ASR. \n",
    "\n",
    "In this project, we focus on developing a SDR system in a speaker-independent setting. That is, the speakers in the evaluation set are disjoint from the training set speakers. We do so because we expect real-world ASR systems to generalize to different speakers than those we have data for. Moreover, for many languages that are under-resourced, we have have (limited) annotated speech data from a single speaker, but we would still want the system to be deployed to work on any speaker of that language. We tackle the problem of spoken digit recognition as a sequence classification task. Concretely, the inputs are short audio clips of a specific digit (in the range 0-9), then the goal is to build deep neural network models to classify a short audio clip and predict the digit that was spoken."
   ]
  },
  {
   "cell_type": "markdown",
   "id": "7407d01b",
   "metadata": {
    "id": "be83711d-f753-44e7-9521-8881623b9521"
   },
   "source": [
    "# Notes\n",
    "\n",
    "## Code Submission\n",
    "\n",
    "You don't necessarily need to complete the code in this Jupyter Notebook, you are free to use another notebook or a python script file, as you would like. You are expected to submit the code by **22.03.2023**.\n",
    "\n",
    "Your code should be clean and well commented. We also expect that if we decide to run it on our system, it should be straighforward to do so. We recommend creating a ```requirements.txt``` file with the names of all the libraries with their versions. If applicable, please mention the python version in a ```README.md``` file, which should also include instructions on how to run your code.\n",
    "\n",
    "As mentioned for the assignments, always remember to cite the code with the links as comments, if you decide to use it from a public repository.\n",
    "\n",
    "## Report Submission\n",
    "\n",
    "With the code, you are also expected to submit a report with a maximum of 4 pages. You should write your report in LaTeX using this template for ACL 2023 [Overleaf Link](https://www.overleaf.com/latex/templates/acl-2023-proceedings-template/qjdgcrdwcnwp). Use this document to fill in any missing information that are not necessarily covered during your presentation for the sake of time in the presentation. While writing your report, we would highly encourgae you to cite the papers behind each tool / library / function that you might use for your experiments. We have also released an example on how to write equations in LaTeX [here](https://piazza.com/class/l9so16qqvk34hu/post/52).\n",
    "\n",
    "You art also expected to submit this report with your code. You should provide the **.tex, .pdf and all image files** zipped with the same naming convention as it was in your assignment(s).\n",
    "\n",
    "## Presentation\n",
    "\n",
    "During the last week of March 2023, i.e. 27.03 -- 31.03, each team will be presenting their works for 15 minutes. We expect equal contribution from each member in delivery and content of the presentation. So roughly 5 minutes for one person, if you have 3 people in your team. There will be 5 minutes for some Q&A. At-least one person from your team should be present to do an in-person presentation, rest of your team could join remotely, if they are not present.\n",
    "\n",
    "## Important Dates\n",
    "\n",
    " - Code & Report Submission: 22.03.2023 (08.00)\n",
    " - Presentation: 27.03.2023 -- 31.03.2023\n",
    " \n",
    " You'll get a precise date and time for your team's presentation at a later time."
   ]
  },
  {
   "cell_type": "markdown",
   "id": "97656a4a",
   "metadata": {
    "id": "61601679-f2f0-437a-8233-54c5ab0cac17"
   },
   "source": [
    "### Grading\n",
    "\n",
    "In this project, your final grades will be determined as follows:\n",
    "\n",
    " - **30%**: &emsp; Completing all the tasks\n",
    " - **30%**: &emsp; Providing scientific-backings for all the methods used\n",
    " - **20%**: &emsp; Quality of the content of the presentation\n",
    " - **20%**: &emsp; Delivery of the presentation"
   ]
  },
  {
   "cell_type": "code",
   "execution_count": 2,
   "id": "fa49401e",
   "metadata": {
    "id": "020b704f"
   },
   "outputs": [],
   "source": [
    "#%matplotlib inline\n",
    "import numpy as np\n",
    "import scipy, matplotlib.pyplot as plt, IPython.display as ipd\n",
    "import librosa, librosa.display\n",
    "\n",
    "import pandas as pd\n",
    "\n",
    "from sklearn  import preprocessing\n",
    "\n",
    "\n",
    "from collections import defaultdict, Counter\n",
    "\n",
    "# add this to ignore warnings from Librosa\n",
    "import warnings\n",
    "warnings.filterwarnings('ignore')\n",
    "\n",
    "import random"
   ]
  },
  {
   "cell_type": "code",
   "execution_count": 3,
   "id": "94abeb9f",
   "metadata": {
    "id": "2b2719f5"
   },
   "outputs": [],
   "source": [
    "# for linear models \n",
    "from sklearn.linear_model import SGDClassifier\n",
    "from sklearn.preprocessing import StandardScaler\n",
    "from sklearn.metrics import accuracy_score\n",
    "# from sklearn.metrics import plot_confusion_matrix\n",
    "from sklearn.metrics import classification_report\n",
    "from sklearn.metrics import confusion_matrix"
   ]
  },
  {
   "cell_type": "code",
   "execution_count": 4,
   "id": "50d3f223",
   "metadata": {
    "id": "f70e4098"
   },
   "outputs": [],
   "source": [
    "from sklearn.neural_network import MLPClassifier"
   ]
  },
  {
   "cell_type": "markdown",
   "id": "2af38761",
   "metadata": {
    "id": "6a0a0884"
   },
   "source": [
    "## Exploring the Dataset \n",
    "\n",
    "The speech samples are already divied into training, development, and test spilts. The splits are made in such way that evaluation speakers are not present in training split. You should use the splits as they are. \n",
    "\n",
    "**CAUTION:** \n",
    "\n",
    "In this project, you are not allowed to use any external data for this problem (at least for the main three tasks). Exploring the effect of additional datasets in this project can only included as a further step after completing the main requirements with the given data. "
   ]
  },
  {
   "cell_type": "code",
   "execution_count": 5,
   "id": "10d76ff0",
   "metadata": {
    "id": "c40503e1"
   },
   "outputs": [],
   "source": [
    "# read tsv file into a dataframe \n",
    "sdr_df = pd.read_csv('SDR_metadata.tsv', sep='\\t', header=0, index_col='Unnamed: 0')"
   ]
  },
  {
   "cell_type": "code",
   "execution_count": 6,
   "id": "cef7cafe",
   "metadata": {
    "id": "b9a087bc"
   },
   "outputs": [
    {
     "data": {
      "text/html": [
       "<div>\n",
       "<style scoped>\n",
       "    .dataframe tbody tr th:only-of-type {\n",
       "        vertical-align: middle;\n",
       "    }\n",
       "\n",
       "    .dataframe tbody tr th {\n",
       "        vertical-align: top;\n",
       "    }\n",
       "\n",
       "    .dataframe thead th {\n",
       "        text-align: right;\n",
       "    }\n",
       "</style>\n",
       "<table border=\"1\" class=\"dataframe\">\n",
       "  <thead>\n",
       "    <tr style=\"text-align: right;\">\n",
       "      <th></th>\n",
       "      <th>identifier</th>\n",
       "      <th>speaker</th>\n",
       "      <th>split</th>\n",
       "      <th>label</th>\n",
       "      <th>file</th>\n",
       "    </tr>\n",
       "  </thead>\n",
       "  <tbody>\n",
       "    <tr>\n",
       "      <th>0</th>\n",
       "      <td>5_theo_23</td>\n",
       "      <td>theo</td>\n",
       "      <td>TRAIN</td>\n",
       "      <td>5</td>\n",
       "      <td>speech_data/5_theo_23.wav</td>\n",
       "    </tr>\n",
       "    <tr>\n",
       "      <th>1</th>\n",
       "      <td>2_yweweler_39</td>\n",
       "      <td>yweweler</td>\n",
       "      <td>TEST</td>\n",
       "      <td>2</td>\n",
       "      <td>speech_data/2_yweweler_39.wav</td>\n",
       "    </tr>\n",
       "    <tr>\n",
       "      <th>2</th>\n",
       "      <td>6_yweweler_34</td>\n",
       "      <td>yweweler</td>\n",
       "      <td>DEV</td>\n",
       "      <td>6</td>\n",
       "      <td>speech_data/6_yweweler_34.wav</td>\n",
       "    </tr>\n",
       "    <tr>\n",
       "      <th>3</th>\n",
       "      <td>6_yweweler_16</td>\n",
       "      <td>yweweler</td>\n",
       "      <td>DEV</td>\n",
       "      <td>6</td>\n",
       "      <td>speech_data/6_yweweler_16.wav</td>\n",
       "    </tr>\n",
       "    <tr>\n",
       "      <th>4</th>\n",
       "      <td>9_yweweler_2</td>\n",
       "      <td>yweweler</td>\n",
       "      <td>TEST</td>\n",
       "      <td>9</td>\n",
       "      <td>speech_data/9_yweweler_2.wav</td>\n",
       "    </tr>\n",
       "  </tbody>\n",
       "</table>\n",
       "</div>"
      ],
      "text/plain": [
       "      identifier   speaker  split  label                           file\n",
       "0      5_theo_23      theo  TRAIN      5      speech_data/5_theo_23.wav\n",
       "1  2_yweweler_39  yweweler   TEST      2  speech_data/2_yweweler_39.wav\n",
       "2  6_yweweler_34  yweweler    DEV      6  speech_data/6_yweweler_34.wav\n",
       "3  6_yweweler_16  yweweler    DEV      6  speech_data/6_yweweler_16.wav\n",
       "4   9_yweweler_2  yweweler   TEST      9   speech_data/9_yweweler_2.wav"
      ]
     },
     "execution_count": 6,
     "metadata": {},
     "output_type": "execute_result"
    }
   ],
   "source": [
    "sdr_df.head()"
   ]
  },
  {
   "cell_type": "code",
   "execution_count": 7,
   "id": "78482b23",
   "metadata": {
    "id": "4c34786a"
   },
   "outputs": [
    {
     "data": {
      "text/plain": [
       "{'george', 'jackson', 'lucas', 'nicolas', 'theo', 'yweweler'}"
      ]
     },
     "execution_count": 7,
     "metadata": {},
     "output_type": "execute_result"
    }
   ],
   "source": [
    "set(sdr_df.speaker.values)"
   ]
  },
  {
   "cell_type": "code",
   "execution_count": 8,
   "id": "8decf2b9",
   "metadata": {
    "id": "155ea375"
   },
   "outputs": [
    {
     "data": {
      "text/html": [
       "<div>\n",
       "<style scoped>\n",
       "    .dataframe tbody tr th:only-of-type {\n",
       "        vertical-align: middle;\n",
       "    }\n",
       "\n",
       "    .dataframe tbody tr th {\n",
       "        vertical-align: top;\n",
       "    }\n",
       "\n",
       "    .dataframe thead th {\n",
       "        text-align: right;\n",
       "    }\n",
       "</style>\n",
       "<table border=\"1\" class=\"dataframe\">\n",
       "  <thead>\n",
       "    <tr style=\"text-align: right;\">\n",
       "      <th></th>\n",
       "      <th>identifier</th>\n",
       "      <th>speaker</th>\n",
       "      <th>split</th>\n",
       "      <th>label</th>\n",
       "      <th>file</th>\n",
       "    </tr>\n",
       "  </thead>\n",
       "  <tbody>\n",
       "    <tr>\n",
       "      <th>700</th>\n",
       "      <td>7_theo_0</td>\n",
       "      <td>theo</td>\n",
       "      <td>TRAIN</td>\n",
       "      <td>7</td>\n",
       "      <td>speech_data/7_theo_0.wav</td>\n",
       "    </tr>\n",
       "  </tbody>\n",
       "</table>\n",
       "</div>"
      ],
      "text/plain": [
       "    identifier speaker  split  label                      file\n",
       "700   7_theo_0    theo  TRAIN      7  speech_data/7_theo_0.wav"
      ]
     },
     "execution_count": 8,
     "metadata": {},
     "output_type": "execute_result"
    }
   ],
   "source": [
    "# explore one sample: 7_theo_0\n",
    "sdr_df.loc[sdr_df['identifier'] == '7_theo_0']"
   ]
  },
  {
   "cell_type": "code",
   "execution_count": 9,
   "id": "d5400122",
   "metadata": {
    "id": "e03e0920"
   },
   "outputs": [],
   "source": [
    "sample_wav_file = sdr_df.loc[sdr_df['identifier'] == '7_theo_0'].file[700]"
   ]
  },
  {
   "cell_type": "markdown",
   "id": "1c0261a0",
   "metadata": {
    "id": "6ab5f7e7"
   },
   "source": [
    "## The Speech Waveform\n",
    "\n",
    "The acoustic realization of speech segment can be (digitally) viewed as a time-variant wavform $\\mathbf{S} \\in \\mathbb{R}^{n}$. Here, $n$ depends on both the duration of the speech segment and the sampling rate of the continous speech singal. Let's check out one sample from the data set. "
   ]
  },
  {
   "cell_type": "code",
   "execution_count": 10,
   "id": "ac7686cd",
   "metadata": {
    "id": "ac93353b"
   },
   "outputs": [
    {
     "data": {
      "text/html": [
       "\n",
       "                <audio  controls=\"controls\" >\n",
       "                    <source src=\"data:audio/wav;base64,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\" type=\"audio/wav\" />\n",
       "                    Your browser does not support the audio element.\n",
       "                </audio>\n",
       "              "
      ],
      "text/plain": [
       "<IPython.lib.display.Audio object>"
      ]
     },
     "execution_count": 10,
     "metadata": {},
     "output_type": "execute_result"
    }
   ],
   "source": [
    "# play and listen to a sample \n",
    "SAMPLING_RATE = 8000 # This value is determined by the wav file, DO NOT CHANGE\n",
    "\n",
    "x, sr = librosa.load(sample_wav_file, sr=SAMPLING_RATE) #, \n",
    "ipd.Audio(x, rate=sr)"
   ]
  },
  {
   "cell_type": "code",
   "execution_count": 11,
   "id": "3331821d",
   "metadata": {
    "id": "b7438910"
   },
   "outputs": [
    {
     "data": {
      "image/png": "[encoded data removed]",
      "text/plain": [
       "<Figure size 1000x200 with 1 Axes>"
      ]
     },
     "metadata": {},
     "output_type": "display_data"
    }
   ],
   "source": [
    "# plot as a waveform \n",
    "fig, ax = plt.subplots(figsize=(10, 2), sharex=True)\n",
    "\n",
    "img = librosa.display.waveshow(y=x, sr=sr, alpha=0.75, x_axis='time', color='blue')\n",
    "\n",
    "ax.set(title='Amplitude waveform')\n",
    "ax.set_ylabel('Amplitude')\n",
    "ax.label_outer()"
   ]
  },
  {
   "cell_type": "code",
   "execution_count": 12,
   "id": "2b1d9ddb",
   "metadata": {
    "id": "3c4297e5"
   },
   "outputs": [
    {
     "data": {
      "text/plain": [
       "428.5"
      ]
     },
     "execution_count": 12,
     "metadata": {},
     "output_type": "execute_result"
    }
   ],
   "source": [
    "# sample duration in milliseconds\n",
    "(1000*len(x))/SAMPLING_RATE"
   ]
  },
  {
   "cell_type": "markdown",
   "id": "52ea449f",
   "metadata": {
    "id": "3df44120"
   },
   "source": [
    "In the cell above, you can see the temporal duration of the audio is 428.5 milliseconds. For digits in the range 0-9, the duration of the speech segment should be around 0.5 seconds with reasonable variation depending on speech rate (i.e., how fast the speaker speaks). "
   ]
  },
  {
   "cell_type": "markdown",
   "id": "f9363b3b",
   "metadata": {
    "id": "d2a0c08e"
   },
   "source": [
    "## The Speech Signal Representation - Mel Spectrograms"
   ]
  },
  {
   "cell_type": "markdown",
   "id": "4a158352",
   "metadata": {
    "id": "6370d9c2"
   },
   "source": [
    "Humans can recognize and differentiate different speech sounds based on the frequency characteristics of the sounds. For machine learning applications, human speech is represented using spectro-temporal features in the [Mel-scale](https://en.wikipedia.org/wiki/Mel_scale) extracted from the speech sample. Mel-scale features are inspired by human speech perception and auditory processing whereby the human ear has difference sensitivity (or resolution) in differet frequency bandes. That is, the human ear can better recognize differences in in lower range frequences, while higher range frequences have a lower resolution. The Mel-scale is linear for frequencies in the range (0-1kHz), and logarithmic for frequencies above 1kHz.\n",
    "\n",
    "In the spectro-temporal representation of speech, a speech sample can be seen as a sequence of $T$ spectral vectors as $\\mathbf{X} = (\\mathbf{x}^1, \\mathbf{x}^2, \\dots, \\mathbf{x}^T)$. Each spectral vector $\\mathbf{x}^t \\in \\mathbb{R}^{k}$ at time-step $t$ is extracted from a short speech segment (~25 milliseconds) with the assumption that the signal is time-invariant in this small time window. Here, $k$ is the number of frequency bands in the [spectrogram](https://en.wikipedia.org/wiki/Spectrogram) and this is a parameter of the feature extraction pipeline. The representation is based on the Fourier transform to convert the temporal signal into the frequency domain. \n",
    "\n",
    "In automatic speech recognition (ASR) research and applications, spectral vectors are usually referred to as \"acoustic frames\". Morover, adjacent frames are extracted with some overlap between them, usually ~10 milliseconds. "
   ]
  },
  {
   "cell_type": "code",
   "execution_count": 13,
   "id": "e45f8f6a",
   "metadata": {
    "id": "ef41492d"
   },
   "outputs": [],
   "source": [
    "def extract_melspectrogram(signal, sr, num_mels):\n",
    "    \"\"\"\n",
    "    Given a time series speech signal (.wav), sampling rate (sr), \n",
    "    and the number of mel coefficients, return a mel-scaled \n",
    "    representation of the signal as numpy array.\n",
    "    \"\"\"\n",
    "    \n",
    "    mel_features = librosa.feature.melspectrogram(y=signal,\n",
    "        sr=sr,\n",
    "        n_fft=200, # with sampling rate = 8000, this corresponds to 25 ms\n",
    "        hop_length=80, # with sampling rate = 8000, this corresponds to 10 ms\n",
    "        n_mels=num_mels, # number of frequency bins, use either 13 or 39\n",
    "        fmin=50, # min frequency threshold\n",
    "        fmax=4000 # max frequency threshold, set to SAMPLING_RATE/2\n",
    "    )\n",
    "    \n",
    "    # for numerical stability added this line\n",
    "    mel_features = np.where(mel_features == 0, np.finfo(float).eps, mel_features)\n",
    "\n",
    "    # 20 * log10 to convert to log scale\n",
    "    log_mel_features = 20*np.log10(mel_features)\n",
    "\n",
    "    # feature scaling\n",
    "    scaled_log_mel_features = preprocessing.scale(log_mel_features, axis=1)\n",
    "    \n",
    "    return scaled_log_mel_features"
   ]
  },
  {
   "cell_type": "code",
   "execution_count": 16,
   "id": "a2f415c9",
   "metadata": {
    "id": "3600d78e"
   },
   "outputs": [
    {
     "data": {
      "text/plain": [
       "(13, 43)"
      ]
     },
     "execution_count": 16,
     "metadata": {},
     "output_type": "execute_result"
    }
   ],
   "source": [
    "melspectrogram = extract_melspectrogram(x, sr, num_mels=13)\n",
    "\n",
    "melspectrogram.shape"
   ]
  },
  {
   "cell_type": "markdown",
   "id": "361503f8",
   "metadata": {
    "id": "7ae0a639"
   },
   "source": [
    "Note that the shape of the array (K x T) represents the number of frequency bands (K) and the number of spectral vectors in this representation (here, K=13, T=43). K is a hyperparameter and the recommended values in ASR research are (13, 39, 81, etc). Here, we fix K = 13. On the other hand, T varies from sample to sample depending on the duration of the sample.  "
   ]
  },
  {
   "cell_type": "code",
   "execution_count": 17,
   "id": "fd9471ff",
   "metadata": {},
   "outputs": [
    {
     "name": "stdout",
     "output_type": "stream",
     "text": [
      "630\n"
     ]
    }
   ],
   "source": [
    "import os\n",
    "\n",
    "max = 0 \n",
    "for af in os.listdir('./speech_data'):\n",
    "    x, sr  = librosa.load('./speech_data/' + af) \n",
    "    melspectrogram = extract_melspectrogram(x, sr, num_mels=13)\n",
    "    y = melspectrogram.shape[1]\n",
    "    if y > max : \n",
    "        max = y\n",
    "\n",
    "print(max)\n"
   ]
  },
  {
   "cell_type": "code",
   "execution_count": 18,
   "id": "ebf6bb5c",
   "metadata": {
    "id": "f17e8976"
   },
   "outputs": [
    {
     "data": {
      "image/png": "[encoded data removed]",
      "text/plain": [
       "<Figure size 1000x200 with 1 Axes>"
      ]
     },
     "metadata": {},
     "output_type": "display_data"
    }
   ],
   "source": [
    "# plot and view the spectrogram\n",
    "\n",
    "fig, ax = plt.subplots(figsize=(10, 2), sharex=True)\n",
    "\n",
    "img = librosa.display.specshow(\n",
    "    melspectrogram, \n",
    "    sr=sr, \n",
    "    x_axis='time', \n",
    "    y_axis='mel', \n",
    "    cmap='viridis', \n",
    "    fmax=4000, \n",
    "    hop_length=80\n",
    ")\n",
    "\n",
    "ax.set(title='Log-frequency power spectrogram')\n",
    "\n",
    "ax.label_outer()"
   ]
  },
  {
   "cell_type": "markdown",
   "id": "6c2071fa",
   "metadata": {
    "id": "e6c872b6"
   },
   "source": [
    "As you can see above from the figure, the spectrogram representation can be viewed as a matrix $\\mathbf{X} \\in \\mathbb{R}^{T} \\times \\mathbb{R}^{k}$.  "
   ]
  },
  {
   "cell_type": "markdown",
   "id": "efa0644c",
   "metadata": {
    "id": "d5392b92"
   },
   "source": [
    "## Task I\n",
    "1. One problem with the spectrogram as a speech feature represetation is that different speech samples would have dfferent durations due to inherent speech variability (e.g., speech rate, speaker dialect, etc). That is, the $T$ in the $(T \\times k)$-dimensional representation would be different for each sample. Therefore, for the baseline model, we will implement a method to have a fixed-size representation for all speech samples. Write a function downsample_spectrogram(X, N) that takes as input a spectrogram $\\mathbf{X} \\in \\mathbb{R}^{T \\times k}$ and a parameter N <= 25. The function should (1) make N equally-sized splits of S across the time-axis, (2) apply a pooling technique (e.g., mean pooling) to each split across the frequency axis to obtain an array that represents a downsampled version of the spectrogram $\\mathbf{X}' \\in \\mathbb{R}^{N \\times k}$, and (3) re-arange $\\mathbf{X}'$ as a vector $\\mathbf{v} \\in \\mathbb{R}^{Nk}$.    \n",
    "\n",
    "2. Using the downsample_spectrogram(X, N) function, transform all the speech samples into vectors $\\mathbf{v} \\in \\mathbb{R}^{Nk}$. \n",
    "\n",
    "3. Given the speaker-based train/dev/test spilts in the SDR_metadata.tsv, fit a linear model on the training samples. That is, your model should be build on data from 4 speakers {'nicolas', 'theo' , 'jackson',  'george'}. Hint: you can experiment with a few model alternatives in the SGDClassifier module in scikit-learn. \n",
    "\n",
    "4. Evaluate you model on the dev and test splits. Use accuracy as an evaluation metric. Analyze the model performance using a [confusion matrix](https://en.wikipedia.org/wiki/Confusion_matrix) of the all possible labels (0-9), Analyze [precision, recall](https://en.wikipedia.org/wiki/Precision_and_recall), [F1-score](https://en.wikipedia.org/wiki/F-score) for each label. Report your observation."
   ]
  },
  {
   "cell_type": "code",
   "execution_count": null,
   "id": "3d0a4223",
   "metadata": {
    "id": "423a3e64"
   },
   "outputs": [],
   "source": [
    "def downsample_spectrogram(X, N):\n",
    "    \"\"\"\n",
    "    Given a spectrogram of an arbitrary length/duration (X ∈ K x T), \n",
    "    return a downsampled version of the spectrogram v ∈ K * N\n",
    "    \"\"\"\n",
    "    # ... your code here\n",
    "    pass \n",
    "    return v"
   ]
  },
  {
   "cell_type": "markdown",
   "id": "1b2b2d64",
   "metadata": {
    "id": "1bbe63ed"
   },
   "source": [
    "## Baseline Model"
   ]
  },
  {
   "cell_type": "code",
   "execution_count": null,
   "id": "ae4f2758",
   "metadata": {
    "id": "c53298ad"
   },
   "outputs": [],
   "source": [
    "# prepare data and split \n",
    "\n",
    "# train a linear model \n",
    "\n",
    "# evaluate the model using accuracy metric\n",
    "\n",
    "# analyze the confusion matrix of the baseline \n",
    "\n",
    "# report precision, recall, F1-score for each label "
   ]
  },
  {
   "cell_type": "markdown",
   "id": "36bfebf4",
   "metadata": {
    "id": "435d62c9"
   },
   "source": [
    "## Task II\n",
    "1. Having established a baseline with a linear model trained on a downsampled signal representation of the speech segment, this task aims to learn a classifier based on the full speech segment. To this end, you will implement a neural model that is suitable for sequential data such as recurrent DNN, convolutional DNN with 1-D temporal convolution, or an audio transformer. The model should take the acoustic sample as it is (i.e., the Mel spectrogram could have an arbitrary length) without the need to downsample the segment. You need to implement at least two of the aforementioned models. Do the neural models improve accuracy over the baseline model? Do you observe any signs of overfitting to the training data? How do the hyperparameters affect the model performance? Report and discuss your observations.        \n",
    "\n",
    "2. Evaluate your (best) neural models and compare to the baseline model using the same evalution process as in task I.4. \n",
    "\n",
    "3. Use a dimensionality reduction algorithm such as t-SNE \\[[1](https://en.wikipedia.org/wiki/T-distributed_stochastic_neighbor_embedding),[2](https://pypi.org/project/tsne-torch/),[3](https://scikit-learn.org/stable/modules/generated/sklearn.manifold.TSNE.html)\\] or [UMAP](https://umap-learn.readthedocs.io/en/latest/basic_usage.html) to analyze how the different models seperate the different classes (the last non-linear layer in your model). Compare to the downsampled representation you used in the baseline and report your observations.\n",
    "\n",
    "4. Are the differences between the different models statistically significant? To answer this question, you need to implement a statistical significance test based on bootstrapping method. To read more how to estiame p-values based on bootstrapping, we recommend the materials on this paper https://aclanthology.org/D12-1091.pdf. Include the baseline model in your evaluation. "
   ]
  },
  {
   "cell_type": "code",
   "execution_count": 15,
   "id": "2ec4dddb",
   "metadata": {},
   "outputs": [
    {
     "ename": "KeyboardInterrupt",
     "evalue": "",
     "output_type": "error",
     "traceback": [
      "\u001b[0;31m---------------------------------------------------------------------------\u001b[0m",
      "\u001b[0;31mKeyboardInterrupt\u001b[0m                         Traceback (most recent call last)",
      "\u001b[0;32m/tmp/ipykernel_6140/1580435863.py\u001b[0m in \u001b[0;36m<module>\u001b[0;34m\u001b[0m\n\u001b[1;32m     15\u001b[0m \u001b[0mMDT_PATH\u001b[0m  \u001b[0;34m=\u001b[0m \u001b[0mos\u001b[0m\u001b[0;34m.\u001b[0m\u001b[0mpath\u001b[0m\u001b[0;34m.\u001b[0m\u001b[0mjoin\u001b[0m\u001b[0;34m(\u001b[0m\u001b[0mos\u001b[0m\u001b[0;34m.\u001b[0m\u001b[0mgetcwd\u001b[0m\u001b[0;34m(\u001b[0m\u001b[0;34m)\u001b[0m\u001b[0;34m,\u001b[0m \u001b[0;34m'SDR_metadata.tsv'\u001b[0m\u001b[0;34m)\u001b[0m\u001b[0;34m\u001b[0m\u001b[0;34m\u001b[0m\u001b[0m\n\u001b[1;32m     16\u001b[0m \u001b[0;34m\u001b[0m\u001b[0m\n\u001b[0;32m---> 17\u001b[0;31m \u001b[0msplit_train_test_by_mtdata\u001b[0m\u001b[0;34m(\u001b[0m\u001b[0mDATA_PATH\u001b[0m\u001b[0;34m,\u001b[0m \u001b[0mMDT_PATH\u001b[0m\u001b[0;34m)\u001b[0m\u001b[0;34m\u001b[0m\u001b[0;34m\u001b[0m\u001b[0m\n\u001b[0m\u001b[1;32m     18\u001b[0m \u001b[0;31m# split_train_test_by_user(DATA_PATH)\u001b[0m\u001b[0;34m\u001b[0m\u001b[0;34m\u001b[0m\u001b[0;34m\u001b[0m\u001b[0m\n\u001b[1;32m     19\u001b[0m \u001b[0;34m\u001b[0m\u001b[0m\n",
      "\u001b[0;32m/mnt/7A8AE5368AE4EF95/Saarland DSAI/WiSe 2022-23/NNTI/(main)NNTI 22-23-20230309T131036Z-001/NNTI22-23/helpers/split_train_test.py\u001b[0m in \u001b[0;36msplit_train_test_by_mtdata\u001b[0;34m(DATA_PATH, MDT_PATH, random_state)\u001b[0m\n\u001b[1;32m     45\u001b[0m \u001b[0;34m\u001b[0m\u001b[0m\n\u001b[1;32m     46\u001b[0m     \u001b[0;32mif\u001b[0m \u001b[0mSPLIT_TYP\u001b[0m \u001b[0;34m==\u001b[0m \u001b[0;34m'TRAIN'\u001b[0m\u001b[0;34m:\u001b[0m\u001b[0;34m\u001b[0m\u001b[0;34m\u001b[0m\u001b[0m\n\u001b[0;32m---> 47\u001b[0;31m       \u001b[0mshutil\u001b[0m\u001b[0;34m.\u001b[0m\u001b[0mcopy\u001b[0m\u001b[0;34m(\u001b[0m \u001b[0mos\u001b[0m\u001b[0;34m.\u001b[0m\u001b[0mpath\u001b[0m\u001b[0;34m.\u001b[0m\u001b[0mjoin\u001b[0m\u001b[0;34m(\u001b[0m\u001b[0mDATA_PATH\u001b[0m\u001b[0;34m,\u001b[0m \u001b[0mfilename\u001b[0m\u001b[0;34m)\u001b[0m \u001b[0;34m,\u001b[0m \u001b[0mos\u001b[0m\u001b[0;34m.\u001b[0m\u001b[0mpath\u001b[0m\u001b[0;34m.\u001b[0m\u001b[0mjoin\u001b[0m\u001b[0;34m(\u001b[0m\u001b[0mTRAIN_DIR\u001b[0m\u001b[0;34m,\u001b[0m \u001b[0mfilename\u001b[0m\u001b[0;34m)\u001b[0m\u001b[0;34m)\u001b[0m\u001b[0;34m\u001b[0m\u001b[0;34m\u001b[0m\u001b[0m\n\u001b[0m\u001b[1;32m     48\u001b[0m     \u001b[0;32melif\u001b[0m \u001b[0mSPLIT_TYP\u001b[0m \u001b[0;34m==\u001b[0m \u001b[0;34m'DEV'\u001b[0m\u001b[0;34m:\u001b[0m\u001b[0;34m\u001b[0m\u001b[0;34m\u001b[0m\u001b[0m\n\u001b[1;32m     49\u001b[0m       \u001b[0mshutil\u001b[0m\u001b[0;34m.\u001b[0m\u001b[0mcopy\u001b[0m\u001b[0;34m(\u001b[0m \u001b[0mos\u001b[0m\u001b[0;34m.\u001b[0m\u001b[0mpath\u001b[0m\u001b[0;34m.\u001b[0m\u001b[0mjoin\u001b[0m\u001b[0;34m(\u001b[0m\u001b[0mDATA_PATH\u001b[0m\u001b[0;34m,\u001b[0m \u001b[0mfilename\u001b[0m\u001b[0;34m)\u001b[0m \u001b[0;34m,\u001b[0m \u001b[0mos\u001b[0m\u001b[0;34m.\u001b[0m\u001b[0mpath\u001b[0m\u001b[0;34m.\u001b[0m\u001b[0mjoin\u001b[0m\u001b[0;34m(\u001b[0m\u001b[0mDEV_DIR\u001b[0m\u001b[0;34m,\u001b[0m \u001b[0mfilename\u001b[0m\u001b[0;34m)\u001b[0m\u001b[0;34m)\u001b[0m\u001b[0;34m\u001b[0m\u001b[0;34m\u001b[0m\u001b[0m\n",
      "\u001b[0;32m~/anaconda3/envs/nnti/lib/python3.7/shutil.py\u001b[0m in \u001b[0;36mcopy\u001b[0;34m(src, dst, follow_symlinks)\u001b[0m\n\u001b[1;32m    246\u001b[0m     \u001b[0;32mif\u001b[0m \u001b[0mos\u001b[0m\u001b[0;34m.\u001b[0m\u001b[0mpath\u001b[0m\u001b[0;34m.\u001b[0m\u001b[0misdir\u001b[0m\u001b[0;34m(\u001b[0m\u001b[0mdst\u001b[0m\u001b[0;34m)\u001b[0m\u001b[0;34m:\u001b[0m\u001b[0;34m\u001b[0m\u001b[0;34m\u001b[0m\u001b[0m\n\u001b[1;32m    247\u001b[0m         \u001b[0mdst\u001b[0m \u001b[0;34m=\u001b[0m \u001b[0mos\u001b[0m\u001b[0;34m.\u001b[0m\u001b[0mpath\u001b[0m\u001b[0;34m.\u001b[0m\u001b[0mjoin\u001b[0m\u001b[0;34m(\u001b[0m\u001b[0mdst\u001b[0m\u001b[0;34m,\u001b[0m \u001b[0mos\u001b[0m\u001b[0;34m.\u001b[0m\u001b[0mpath\u001b[0m\u001b[0;34m.\u001b[0m\u001b[0mbasename\u001b[0m\u001b[0;34m(\u001b[0m\u001b[0msrc\u001b[0m\u001b[0;34m)\u001b[0m\u001b[0;34m)\u001b[0m\u001b[0;34m\u001b[0m\u001b[0;34m\u001b[0m\u001b[0m\n\u001b[0;32m--> 248\u001b[0;31m     \u001b[0mcopyfile\u001b[0m\u001b[0;34m(\u001b[0m\u001b[0msrc\u001b[0m\u001b[0;34m,\u001b[0m \u001b[0mdst\u001b[0m\u001b[0;34m,\u001b[0m \u001b[0mfollow_symlinks\u001b[0m\u001b[0;34m=\u001b[0m\u001b[0mfollow_symlinks\u001b[0m\u001b[0;34m)\u001b[0m\u001b[0;34m\u001b[0m\u001b[0;34m\u001b[0m\u001b[0m\n\u001b[0m\u001b[1;32m    249\u001b[0m     \u001b[0mcopymode\u001b[0m\u001b[0;34m(\u001b[0m\u001b[0msrc\u001b[0m\u001b[0;34m,\u001b[0m \u001b[0mdst\u001b[0m\u001b[0;34m,\u001b[0m \u001b[0mfollow_symlinks\u001b[0m\u001b[0;34m=\u001b[0m\u001b[0mfollow_symlinks\u001b[0m\u001b[0;34m)\u001b[0m\u001b[0;34m\u001b[0m\u001b[0;34m\u001b[0m\u001b[0m\n\u001b[1;32m    250\u001b[0m     \u001b[0;32mreturn\u001b[0m \u001b[0mdst\u001b[0m\u001b[0;34m\u001b[0m\u001b[0;34m\u001b[0m\u001b[0m\n",
      "\u001b[0;32m~/anaconda3/envs/nnti/lib/python3.7/shutil.py\u001b[0m in \u001b[0;36mcopyfile\u001b[0;34m(src, dst, follow_symlinks)\u001b[0m\n\u001b[1;32m    120\u001b[0m         \u001b[0;32mwith\u001b[0m \u001b[0mopen\u001b[0m\u001b[0;34m(\u001b[0m\u001b[0msrc\u001b[0m\u001b[0;34m,\u001b[0m \u001b[0;34m'rb'\u001b[0m\u001b[0;34m)\u001b[0m \u001b[0;32mas\u001b[0m \u001b[0mfsrc\u001b[0m\u001b[0;34m:\u001b[0m\u001b[0;34m\u001b[0m\u001b[0;34m\u001b[0m\u001b[0m\n\u001b[1;32m    121\u001b[0m             \u001b[0;32mwith\u001b[0m \u001b[0mopen\u001b[0m\u001b[0;34m(\u001b[0m\u001b[0mdst\u001b[0m\u001b[0;34m,\u001b[0m \u001b[0;34m'wb'\u001b[0m\u001b[0;34m)\u001b[0m \u001b[0;32mas\u001b[0m \u001b[0mfdst\u001b[0m\u001b[0;34m:\u001b[0m\u001b[0;34m\u001b[0m\u001b[0;34m\u001b[0m\u001b[0m\n\u001b[0;32m--> 122\u001b[0;31m                 \u001b[0mcopyfileobj\u001b[0m\u001b[0;34m(\u001b[0m\u001b[0mfsrc\u001b[0m\u001b[0;34m,\u001b[0m \u001b[0mfdst\u001b[0m\u001b[0;34m)\u001b[0m\u001b[0;34m\u001b[0m\u001b[0;34m\u001b[0m\u001b[0m\n\u001b[0m\u001b[1;32m    123\u001b[0m     \u001b[0;32mreturn\u001b[0m \u001b[0mdst\u001b[0m\u001b[0;34m\u001b[0m\u001b[0;34m\u001b[0m\u001b[0m\n\u001b[1;32m    124\u001b[0m \u001b[0;34m\u001b[0m\u001b[0m\n",
      "\u001b[0;32m~/anaconda3/envs/nnti/lib/python3.7/shutil.py\u001b[0m in \u001b[0;36mcopyfileobj\u001b[0;34m(fsrc, fdst, length)\u001b[0m\n\u001b[1;32m     80\u001b[0m         \u001b[0;32mif\u001b[0m \u001b[0;32mnot\u001b[0m \u001b[0mbuf\u001b[0m\u001b[0;34m:\u001b[0m\u001b[0;34m\u001b[0m\u001b[0;34m\u001b[0m\u001b[0m\n\u001b[1;32m     81\u001b[0m             \u001b[0;32mbreak\u001b[0m\u001b[0;34m\u001b[0m\u001b[0;34m\u001b[0m\u001b[0m\n\u001b[0;32m---> 82\u001b[0;31m         \u001b[0mfdst\u001b[0m\u001b[0;34m.\u001b[0m\u001b[0mwrite\u001b[0m\u001b[0;34m(\u001b[0m\u001b[0mbuf\u001b[0m\u001b[0;34m)\u001b[0m\u001b[0;34m\u001b[0m\u001b[0;34m\u001b[0m\u001b[0m\n\u001b[0m\u001b[1;32m     83\u001b[0m \u001b[0;34m\u001b[0m\u001b[0m\n\u001b[1;32m     84\u001b[0m \u001b[0;32mdef\u001b[0m \u001b[0m_samefile\u001b[0m\u001b[0;34m(\u001b[0m\u001b[0msrc\u001b[0m\u001b[0;34m,\u001b[0m \u001b[0mdst\u001b[0m\u001b[0;34m)\u001b[0m\u001b[0;34m:\u001b[0m\u001b[0;34m\u001b[0m\u001b[0;34m\u001b[0m\u001b[0m\n",
      "\u001b[0;31mKeyboardInterrupt\u001b[0m: "
     ]
    }
   ],
   "source": [
    "from helpers.split_train_test import split_train_test_by_mtdata, split_train_test_by_user\n",
    "from helpers.train import train, test\n",
    "from models.cnn import CNN1D, CNN2D\n",
    "from models.rnn import RNN1D\n",
    "\n",
    "import torch.nn as nn\n",
    "from torch.optim import SGD, Adam\n",
    "import torch\n",
    "\n",
    "from helpers.preprocessor import transformMelSpecByTruncate1D, transformMelSpecByTruncate2D\n",
    "import os\n",
    "\n",
    "TEST_PTH  = os.path.join(os.getcwd(), 'data', 'test')\n",
    "DATA_PATH = os.path.join(os.getcwd(), 'speech_data')\n",
    "MDT_PATH  = os.path.join(os.getcwd(), 'SDR_metadata.tsv')\n",
    "\n",
    "split_train_test_by_mtdata(DATA_PATH, MDT_PATH)\n",
    "# split_train_test_by_user(DATA_PATH)\n",
    "\n",
    "device  = torch.device(\"cuda\" if torch.cuda.is_available() else \"cpu\")\n",
    "epochs = 4\n",
    "SR     = 8000\n",
    "batch_size = 32\n",
    "\n",
    "model = CNN1D()\n",
    "optimizer = SGD(model.parameters(), lr = 0.01)\n",
    "loss  = nn.CrossEntropyLoss()\n",
    "\n",
    "model = train(model, loss, optimizer, None, device, epochs, transformMelSpecByTruncate1D, SR, batch_size, False)\n",
    "test(model, TEST_PTH, loss, transformMelSpecByTruncate1D, device, SR)\n",
    "\n",
    "# model = CNN2D()\n",
    "# optimizer = SGD(model.parameters(), lr = 0.01)\n",
    "# loss  = nn.CrossEntropyLoss()\n",
    "\n",
    "# model = train(model, loss, optimizer, None, device, epochs, transformMelSpecByTruncate2D, SR, batch_size, False)\n",
    "# test(model, TEST_PTH, loss, transformMelSpecByTruncate2D, device, SR)\n",
    "\n",
    "# model = RNN1D(input_size=630, hidden_size=32 , num_layers=2 , device=device)\n",
    "# optimizer = Adam(model.parameters(), lr = 0.01)\n",
    "# loss  = nn.CrossEntropyLoss()\n",
    "\n",
    "# model = train(model, loss, optimizer, None, device, epochs, transformMelSpecByTruncate1D, SR, batch_size, False)\n",
    "# test(model, TEST_PTH, loss, transformMelSpecByTruncate1D, device, SR)\n"
   ]
  },
  {
   "cell_type": "code",
   "execution_count": null,
   "id": "895c8f00",
   "metadata": {},
   "outputs": [],
   "source": []
  },
  {
   "cell_type": "code",
   "execution_count": null,
   "id": "07135e1f",
   "metadata": {},
   "outputs": [],
   "source": []
  },
  {
   "cell_type": "markdown",
   "id": "a3adff49",
   "metadata": {
    "id": "8f95e312"
   },
   "source": [
    "## Task III (Open Ended)\n",
    "1. Consider the case where we have speech data from a single speaker (e.g., george). Train your models on this subset of the data. What do you observe? How does this affect the model performance? \n",
    "\n",
    "2. Even though a model is trained on a single speaker, we would like the model to generalizes to any speaker. To this end, one can use data augmentation techniques to artificially create more samples for each class. Some of these augmentations can be applied on the spectrogram (e.g., SpecAugment https://ai.googleblog.com/2019/04/specaugment-new-data-augmentation.html), and other can be applied on the raw waveform before creating the spectrogram such as pitch manipulation (https://github.com/facebookresearch/WavAugment). Explore the effect of one type of augmentation from each type. Report your observation and anaylze the confusion matrices.\n",
    "\n",
    "3. Data augmentation techniques create different \"views\" of each training sample in a stochastic or determinstic approach. One can leaverage speech data augmentation to create views for training a neural network in a contrastive learning setting with margin-based objective function (for more info, read http://proceedings.mlr.press/v130/al-tahan21a/al-tahan21a.pdf). Implement at least one model using a contrastive loss based on different views of the training samples. Does this model improve over the model without contrastive learning? Report and discuss your observations. \n",
    "\n",
    "For more information on the contrastive learning framework, you can refer to this paper\n",
    "https://ieeexplore.ieee.org/stamp/stamp.jsp?arnumber=9226466"
   ]
  },
  {
   "cell_type": "code",
   "execution_count": 19,
   "id": "66451f8f",
   "metadata": {},
   "outputs": [],
   "source": [
    "from helpers.split_train_test import split_train_test_by_mtdata, split_train_test_by_user, split_train_test_speaker_by_mtdata\n",
    "from helpers.train_augment import train, test\n",
    "from models.cnn import CNN1D, CNN2D\n",
    "# from models.rnn import RNN1D\n",
    "\n",
    "import torch.nn as nn\n",
    "from torch.optim import SGD, Adam\n",
    "import torch\n",
    "import torchvision.transforms as transforms\n",
    "import torchaudio.transforms as T\n",
    "\n",
    "# from helpers.preprocessor import transformMelSpecByTruncate1D, transformMelSpecByTruncate2D\n",
    "from helpers.augmentations import transformMelSpecByTruncate1D, IdentityTransform, \\\n",
    "                                NoiseTransform,TimeShiftTransform, TimeStretchingTransform,\\\n",
    "                                SpecAugment\n",
    "import os\n",
    "\n",
    "# setup the device\n",
    "device  = torch.device(\"cuda\" if torch.cuda.is_available() else \"cpu\")"
   ]
  },
  {
   "cell_type": "code",
   "execution_count": 20,
   "id": "f565daf9",
   "metadata": {
    "id": "34c37dff"
   },
   "outputs": [
    {
     "data": {
      "text/plain": [
       "Text(67.09722222222221, 0.5, 'Time Stretching')"
      ]
     },
     "execution_count": 20,
     "metadata": {},
     "output_type": "execute_result"
    },
    {
     "data": {
      "image/png": "[encoded data removed]",
      "text/plain": [
       "<Figure size 1000x800 with 4 Axes>"
      ]
     },
     "metadata": {},
     "output_type": "display_data"
    }
   ],
   "source": [
    "'''\n",
    "Visualisation of the each of the Raw Transforms on a sample data.\n",
    "We employed 3 different augmentations, namely:\n",
    "    - Noise addition\n",
    "    - Time shifting\n",
    "    - Time stretching\n",
    "'''\n",
    "\n",
    "Ntrans = NoiseTransform()\n",
    "TStrans = TimeShiftTransform()\n",
    "SRtrans = TimeStretchingTransform()\n",
    "\n",
    "img_x = [x]\n",
    "img_x.append(Ntrans(x))\n",
    "img_x.append(TStrans(x))\n",
    "img_x.append(SRtrans(x))\n",
    "\n",
    "\n",
    "# plot as a waveform \n",
    "fig, ax = plt.subplots(4,1,figsize=(10, 8), sharex=True)\n",
    "\n",
    "# trans = NoiseTransform\n",
    "\n",
    "img = librosa.display.waveshow(y=img_x[0], sr=sr, ax=ax[0], alpha=0.75, x_axis='time', color='blue')\n",
    "ax[0].set(title='Amplitude waveform')\n",
    "ax[0].set_ylabel('Original')\n",
    "\n",
    "img = librosa.display.waveshow(y=img_x[1], sr=sr, ax=ax[1], alpha=0.75, x_axis='time', color='blue')\n",
    "# ax[1].set(title='Amplitude waveform')\n",
    "ax[1].set_ylabel('Noise Addition')\n",
    "\n",
    "img = librosa.display.waveshow(y=img_x[2], sr=sr, ax=ax[2], alpha=0.75, x_axis='time', color='blue')\n",
    "# ax[2].set(title='Amplitude waveform')\n",
    "ax[2].set_ylabel('Time Shift')\n",
    "\n",
    "img = librosa.display.waveshow(y=img_x[3], sr=sr, ax=ax[3], alpha=0.75, x_axis='time', color='blue')\n",
    "# ax[3].set(title='Amplitude waveform')\n",
    "ax[3].set_ylabel('Time Stretching')\n",
    "\n",
    "# fig.label_outer()"
   ]
  },
  {
   "cell_type": "code",
   "execution_count": 21,
   "id": "ccd9ab5f",
   "metadata": {},
   "outputs": [],
   "source": [
    "# define the elements of the SpecAugment\n",
    "def spec_augment_freq(spec: np.ndarray, num_mask=2, freq_masking_max_percentage=0.15, time_masking_max_percentage=0.3):\n",
    "        spec = spec.copy()\n",
    "        for i in range(num_mask):\n",
    "            all_frames_num, all_freqs_num = spec.shape\n",
    "\n",
    "            freq_percentage = np.random.uniform(0.0, freq_masking_max_percentage)\n",
    "            \n",
    "            num_freqs_to_mask = int(freq_percentage * all_freqs_num)\n",
    "            f0 = np.random.uniform(low=0.0, high=all_freqs_num - num_freqs_to_mask)\n",
    "            f0 = int(f0)\n",
    "            spec[:, f0:f0 + num_freqs_to_mask] = 0\n",
    "        \n",
    "        return spec\n",
    "\n",
    "def spec_augment_time(spec: np.ndarray, num_mask=2, freq_masking_max_percentage=0.15, time_masking_max_percentage=0.3):\n",
    "        spec = spec.copy()\n",
    "        for i in range(num_mask):\n",
    "            all_frames_num, all_freqs_num = spec.shape\n",
    "\n",
    "            time_percentage = np.random.uniform(0.0, time_masking_max_percentage)\n",
    "            \n",
    "            num_frames_to_mask = int(time_percentage * all_frames_num)\n",
    "            t0 = np.random.uniform(low=0.0, high=all_frames_num - num_frames_to_mask)\n",
    "            t0 = int(t0)\n",
    "            spec[t0:t0 + num_frames_to_mask, :] = 0\n",
    "        \n",
    "        return spec"
   ]
  },
  {
   "cell_type": "code",
   "execution_count": 22,
   "id": "f5291a13",
   "metadata": {},
   "outputs": [
    {
     "data": {
      "text/plain": [
       "Text(0.5, 0.98, 'SpecAugment')"
      ]
     },
     "execution_count": 22,
     "metadata": {},
     "output_type": "execute_result"
    },
    {
     "data": {
      "image/png": "[encoded data removed]",
      "text/plain": [
       "<Figure size 1000x600 with 3 Axes>"
      ]
     },
     "metadata": {},
     "output_type": "display_data"
    }
   ],
   "source": [
    "'''\n",
    "Visualisation of the SpecAugment Transforms. \n",
    "SpecAugment consists of masking certain frequency bands or time segments of the spectrogram.\n",
    "'''\n",
    "\n",
    "fig, ax = plt.subplots(3,1,figsize=(10, 6), sharex=True)\n",
    "\n",
    "spec = melspectrogram\n",
    "\n",
    "img = librosa.display.specshow(\n",
    "    np.array(spec), \n",
    "    sr=sr, \n",
    "    ax=ax[0],\n",
    "    x_axis='time', \n",
    "    y_axis='mel', \n",
    "    cmap='viridis', \n",
    "    fmax=4000, \n",
    "    hop_length=80\n",
    ")\n",
    "ax[0].set_ylabel('Original')\n",
    "spec = spec_augment_freq(melspectrogram)\n",
    "\n",
    "\n",
    "img = librosa.display.specshow(\n",
    "    np.array(spec), \n",
    "    sr=sr, \n",
    "    ax=ax[1],\n",
    "    x_axis='time', \n",
    "    y_axis='mel', \n",
    "    cmap='viridis', \n",
    "    fmax=4000, \n",
    "    hop_length=80\n",
    ")\n",
    "ax[1].set_ylabel('Freq Masking')\n",
    "spec = spec_augment_time(melspectrogram)\n",
    "\n",
    "img = librosa.display.specshow(\n",
    "    np.array(spec), \n",
    "    sr=sr, \n",
    "    ax=ax[2],\n",
    "    x_axis='time', \n",
    "    y_axis='mel', \n",
    "    cmap='viridis', \n",
    "    fmax=4000, \n",
    "    hop_length=80\n",
    ")\n",
    "ax[2].set_ylabel('Time Masking')\n",
    "# ax.set(title='Log-frequency power spectrogram')\n",
    "fig.suptitle('SpecAugment')\n",
    "# ax.label_outer()"
   ]
  },
  {
   "cell_type": "code",
   "execution_count": 23,
   "id": "b36ffbba",
   "metadata": {},
   "outputs": [
    {
     "name": "stdout",
     "output_type": "stream",
     "text": [
      "Epoch 1/8 , Step 1/16 train loss : 2.334489556539668 \n",
      "accuracy : 0.09375 precision : 0.09375 recall : 0.09375 f1 : 0.09375\n",
      "\n",
      "Epoch 1/8 , Step 2/16 train loss : 2.299613170762216 \n",
      "accuracy : 0.125 precision : 0.125 recall : 0.125 f1 : 0.125\n",
      "\n",
      "Epoch 1/8 , Step 3/16 train loss : 2.295609538245558 \n",
      "accuracy : 0.21875 precision : 0.21875 recall : 0.21875 f1 : 0.21875\n",
      "\n",
      "Epoch 1/8 , Step 4/16 train loss : 2.3326816194157263 \n",
      "accuracy : 0.03125 precision : 0.03125 recall : 0.03125 f1 : 0.03125\n",
      "\n",
      "Epoch 1/8 , Step 5/16 train loss : 2.405994131502333 \n",
      "accuracy : 0.125 precision : 0.125 recall : 0.125 f1 : 0.125\n",
      "\n",
      "Epoch 1/8 , Step 6/16 train loss : 2.388912563101256 \n",
      "accuracy : 0.15625 precision : 0.15625 recall : 0.15625 f1 : 0.15625\n",
      "\n",
      "Epoch 1/8 , Step 7/16 train loss : 2.3873768117106606 \n",
      "accuracy : 0.125 precision : 0.125 recall : 0.125 f1 : 0.125\n",
      "\n",
      "Epoch 1/8 , Step 8/16 train loss : 2.3814024537429623 \n",
      "accuracy : 0.0625 precision : 0.0625 recall : 0.0625 f1 : 0.0625\n",
      "\n",
      "Epoch 1/8 , Step 9/16 train loss : 2.3673896099269656 \n",
      "accuracy : 0.1875 precision : 0.1875 recall : 0.1875 f1 : 0.1875\n",
      "\n",
      "Epoch 1/8 , Step 10/16 train loss : 2.3536615416065145 \n",
      "accuracy : 0.1875 precision : 0.1875 recall : 0.1875 f1 : 0.1875\n",
      "\n",
      "Epoch 1/8 , Step 11/16 train loss : 2.348703484335547 \n",
      "accuracy : 0.0625 precision : 0.0625 recall : 0.0625 f1 : 0.0625\n",
      "\n",
      "Epoch 1/8 , Step 12/16 train loss : 2.337819903884727 \n",
      "accuracy : 0.0625 precision : 0.0625 recall : 0.0625 f1 : 0.0625\n",
      "\n",
      "Epoch 1/8 , Step 13/16 train loss : 2.3320352404640676 \n",
      "accuracy : 0.09375 precision : 0.09375 recall : 0.09375 f1 : 0.09375\n",
      "\n",
      "Epoch 1/8 , Step 14/16 train loss : 2.3225707881405566 \n",
      "accuracy : 0.25 precision : 0.25 recall : 0.25 f1 : 0.25\n",
      "\n",
      "Epoch 1/8 , Step 15/16 train loss : 2.3128534664079416 \n",
      "accuracy : 0.1875 precision : 0.1875 recall : 0.1875 f1 : 0.1875\n",
      "\n",
      "Epoch 1/8 , Step 16/16 train loss : 2.300353823121891 \n",
      "accuracy : 0.2 precision : 0.2 recall : 0.2 f1 : 0.20000000000000004\n",
      "\n",
      "Epoch 2/8 , Step 1/16 train loss : 2.403637687137314 \n",
      "accuracy : 0.15625 precision : 0.15625 recall : 0.15625 f1 : 0.15625\n",
      "\n",
      "Epoch 2/8 , Step 2/16 train loss : 2.2178551521276235 \n",
      "accuracy : 0.3125 precision : 0.3125 recall : 0.3125 f1 : 0.3125\n",
      "\n",
      "Epoch 2/8 , Step 3/16 train loss : 2.184522040137489 \n",
      "accuracy : 0.15625 precision : 0.15625 recall : 0.15625 f1 : 0.15625\n",
      "\n",
      "Epoch 2/8 , Step 4/16 train loss : 2.1967964024538733 \n",
      "accuracy : 0.1875 precision : 0.1875 recall : 0.1875 f1 : 0.1875\n",
      "\n",
      "Epoch 2/8 , Step 5/16 train loss : 2.2016704006876493 \n",
      "accuracy : 0.25 precision : 0.25 recall : 0.25 f1 : 0.25\n",
      "\n",
      "Epoch 2/8 , Step 6/16 train loss : 2.198945684955602 \n",
      "accuracy : 0.1875 precision : 0.1875 recall : 0.1875 f1 : 0.1875\n",
      "\n",
      "Epoch 2/8 , Step 7/16 train loss : 2.191845608324994 \n",
      "accuracy : 0.21875 precision : 0.21875 recall : 0.21875 f1 : 0.21875\n",
      "\n",
      "Epoch 2/8 , Step 8/16 train loss : 2.205415451901566 \n",
      "accuracy : 0.1875 precision : 0.1875 recall : 0.1875 f1 : 0.1875\n",
      "\n",
      "Epoch 2/8 , Step 9/16 train loss : 2.2066287530282196 \n",
      "accuracy : 0.15625 precision : 0.15625 recall : 0.15625 f1 : 0.15625\n",
      "\n",
      "Epoch 2/8 , Step 10/16 train loss : 2.2082941560717297 \n",
      "accuracy : 0.1875 precision : 0.1875 recall : 0.1875 f1 : 0.1875\n",
      "\n",
      "Epoch 2/8 , Step 11/16 train loss : 2.2115953361821763 \n",
      "accuracy : 0.125 precision : 0.125 recall : 0.125 f1 : 0.125\n",
      "\n",
      "Epoch 2/8 , Step 12/16 train loss : 2.202238285348967 \n",
      "accuracy : 0.25 precision : 0.25 recall : 0.25 f1 : 0.25\n",
      "\n",
      "Epoch 2/8 , Step 13/16 train loss : 2.207997019087354 \n",
      "accuracy : 0.15625 precision : 0.15625 recall : 0.15625 f1 : 0.15625\n",
      "\n",
      "Epoch 2/8 , Step 14/16 train loss : 2.1966223506880485 \n",
      "accuracy : 0.28125 precision : 0.28125 recall : 0.28125 f1 : 0.28125\n",
      "\n",
      "Epoch 2/8 , Step 15/16 train loss : 2.189950719775901 \n",
      "accuracy : 0.15625 precision : 0.15625 recall : 0.15625 f1 : 0.15625\n",
      "\n",
      "Epoch 2/8 , Step 16/16 train loss : 2.2079252267138 \n",
      "accuracy : 0.05 precision : 0.05 recall : 0.05 f1 : 0.05000000000000001\n",
      "\n",
      "Epoch 3/8 , Step 1/16 train loss : 2.2838248120093207 \n",
      "accuracy : 0.125 precision : 0.125 recall : 0.125 f1 : 0.125\n",
      "\n",
      "Epoch 3/8 , Step 2/16 train loss : 2.2008371113068783 \n",
      "accuracy : 0.25 precision : 0.25 recall : 0.25 f1 : 0.25\n",
      "\n",
      "Epoch 3/8 , Step 3/16 train loss : 2.169262599071208 \n",
      "accuracy : 0.25 precision : 0.25 recall : 0.25 f1 : 0.25\n",
      "\n",
      "Epoch 3/8 , Step 4/16 train loss : 2.139423972608566 \n",
      "accuracy : 0.3125 precision : 0.3125 recall : 0.3125 f1 : 0.3125\n",
      "\n",
      "Epoch 3/8 , Step 5/16 train loss : 2.1313746961246767 \n",
      "accuracy : 0.125 precision : 0.125 recall : 0.125 f1 : 0.125\n",
      "\n",
      "Epoch 3/8 , Step 6/16 train loss : 2.118768676364122 \n",
      "accuracy : 0.1875 precision : 0.1875 recall : 0.1875 f1 : 0.1875\n",
      "\n",
      "Epoch 3/8 , Step 7/16 train loss : 2.081117374275743 \n",
      "accuracy : 0.375 precision : 0.375 recall : 0.375 f1 : 0.375\n",
      "\n",
      "Epoch 3/8 , Step 8/16 train loss : 2.0780818167129205 \n",
      "accuracy : 0.28125 precision : 0.28125 recall : 0.28125 f1 : 0.28125\n",
      "\n",
      "Epoch 3/8 , Step 9/16 train loss : 2.0673084383855223 \n",
      "accuracy : 0.34375 precision : 0.34375 recall : 0.34375 f1 : 0.34375\n",
      "\n",
      "Epoch 3/8 , Step 10/16 train loss : 2.0816160481714774 \n",
      "accuracy : 0.1875 precision : 0.1875 recall : 0.1875 f1 : 0.1875\n",
      "\n",
      "Epoch 3/8 , Step 11/16 train loss : 2.079050341282732 \n",
      "accuracy : 0.21875 precision : 0.21875 recall : 0.21875 f1 : 0.21875\n",
      "\n",
      "Epoch 3/8 , Step 12/16 train loss : 2.0883159283291106 \n",
      "accuracy : 0.15625 precision : 0.15625 recall : 0.15625 f1 : 0.15625\n",
      "\n",
      "Epoch 3/8 , Step 13/16 train loss : 2.074335677589743 \n",
      "accuracy : 0.4375 precision : 0.4375 recall : 0.4375 f1 : 0.4375\n",
      "\n",
      "Epoch 3/8 , Step 14/16 train loss : 2.069336374597579 \n",
      "accuracy : 0.3125 precision : 0.3125 recall : 0.3125 f1 : 0.3125\n",
      "\n",
      "Epoch 3/8 , Step 15/16 train loss : 2.0697264939894437 \n",
      "accuracy : 0.1875 precision : 0.1875 recall : 0.1875 f1 : 0.1875\n",
      "\n",
      "Epoch 3/8 , Step 16/16 train loss : 2.073166132835255 \n",
      "accuracy : 0.2 precision : 0.2 recall : 0.2 f1 : 0.20000000000000004\n",
      "\n",
      "Epoch 4/8 , Step 1/16 train loss : 2.0458189725590943 \n",
      "accuracy : 0.125 precision : 0.125 recall : 0.125 f1 : 0.125\n",
      "\n",
      "Epoch 4/8 , Step 2/16 train loss : 1.9581077987597189 \n",
      "accuracy : 0.28125 precision : 0.28125 recall : 0.28125 f1 : 0.28125\n",
      "\n",
      "Epoch 4/8 , Step 3/16 train loss : 1.9304870405329595 \n",
      "accuracy : 0.375 precision : 0.375 recall : 0.375 f1 : 0.375\n",
      "\n",
      "Epoch 4/8 , Step 4/16 train loss : 1.9746085044886157 \n",
      "accuracy : 0.28125 precision : 0.28125 recall : 0.28125 f1 : 0.28125\n",
      "\n",
      "Epoch 4/8 , Step 5/16 train loss : 1.962346081981512 \n",
      "accuracy : 0.1875 precision : 0.1875 recall : 0.1875 f1 : 0.1875\n",
      "\n",
      "Epoch 4/8 , Step 6/16 train loss : 1.9409316097533622 \n",
      "accuracy : 0.40625 precision : 0.40625 recall : 0.40625 f1 : 0.40625\n",
      "\n",
      "Epoch 4/8 , Step 7/16 train loss : 1.9446316906160361 \n",
      "accuracy : 0.3125 precision : 0.3125 recall : 0.3125 f1 : 0.3125\n",
      "\n",
      "Epoch 4/8 , Step 8/16 train loss : 1.9392817354915959 \n",
      "accuracy : 0.3125 precision : 0.3125 recall : 0.3125 f1 : 0.3125\n",
      "\n",
      "Epoch 4/8 , Step 9/16 train loss : 1.941353385219281 \n",
      "accuracy : 0.21875 precision : 0.21875 recall : 0.21875 f1 : 0.21875\n",
      "\n",
      "Epoch 4/8 , Step 10/16 train loss : 1.929837154568086 \n",
      "accuracy : 0.40625 precision : 0.40625 recall : 0.40625 f1 : 0.40625\n",
      "\n",
      "Epoch 4/8 , Step 11/16 train loss : 1.9319328073984006 \n",
      "accuracy : 0.34375 precision : 0.34375 recall : 0.34375 f1 : 0.34375\n",
      "\n",
      "Epoch 4/8 , Step 12/16 train loss : 1.9552136538873839 \n",
      "accuracy : 0.25 precision : 0.25 recall : 0.25 f1 : 0.25\n",
      "\n",
      "Epoch 4/8 , Step 13/16 train loss : 1.9673910373876304 \n",
      "accuracy : 0.25 precision : 0.25 recall : 0.25 f1 : 0.25\n",
      "\n",
      "Epoch 4/8 , Step 14/16 train loss : 1.950101480099402 \n",
      "accuracy : 0.375 precision : 0.375 recall : 0.375 f1 : 0.375\n",
      "\n",
      "Epoch 4/8 , Step 15/16 train loss : 1.9488710671712346 \n",
      "accuracy : 0.28125 precision : 0.28125 recall : 0.28125 f1 : 0.28125\n",
      "\n",
      "Epoch 4/8 , Step 16/16 train loss : 1.9499385921911674 \n",
      "accuracy : 0.3 precision : 0.3 recall : 0.3 f1 : 0.3\n",
      "\n",
      "Epoch 5/8 , Step 1/16 train loss : 2.0099628230007656 \n",
      "accuracy : 0.25 precision : 0.25 recall : 0.25 f1 : 0.25\n",
      "\n",
      "Epoch 5/8 , Step 2/16 train loss : 1.9128409257072623 \n",
      "accuracy : 0.34375 precision : 0.34375 recall : 0.34375 f1 : 0.34375\n",
      "\n",
      "Epoch 5/8 , Step 3/16 train loss : 1.8708200126464887 \n",
      "accuracy : 0.4375 precision : 0.4375 recall : 0.4375 f1 : 0.4375\n",
      "\n",
      "Epoch 5/8 , Step 4/16 train loss : 1.8808451270247666 \n",
      "accuracy : 0.25 precision : 0.25 recall : 0.25 f1 : 0.25\n",
      "\n"
     ]
    },
    {
     "name": "stdout",
     "output_type": "stream",
     "text": [
      "Epoch 5/8 , Step 5/16 train loss : 1.8582019514050103 \n",
      "accuracy : 0.4375 precision : 0.4375 recall : 0.4375 f1 : 0.4375\n",
      "\n",
      "Epoch 5/8 , Step 6/16 train loss : 1.8166655650548653 \n",
      "accuracy : 0.4375 precision : 0.4375 recall : 0.4375 f1 : 0.4375\n",
      "\n",
      "Epoch 5/8 , Step 7/16 train loss : 1.798833758388185 \n",
      "accuracy : 0.5 precision : 0.5 recall : 0.5 f1 : 0.5\n",
      "\n",
      "Epoch 5/8 , Step 8/16 train loss : 1.796610690768217 \n",
      "accuracy : 0.28125 precision : 0.28125 recall : 0.28125 f1 : 0.28125\n",
      "\n",
      "Epoch 5/8 , Step 9/16 train loss : 1.8062637770446999 \n",
      "accuracy : 0.375 precision : 0.375 recall : 0.375 f1 : 0.375\n",
      "\n",
      "Epoch 5/8 , Step 10/16 train loss : 1.7925143534672152 \n",
      "accuracy : 0.5 precision : 0.5 recall : 0.5 f1 : 0.5\n",
      "\n",
      "Epoch 5/8 , Step 11/16 train loss : 1.7705814400048474 \n",
      "accuracy : 0.46875 precision : 0.46875 recall : 0.46875 f1 : 0.46875\n",
      "\n",
      "Epoch 5/8 , Step 12/16 train loss : 1.778558672295338 \n",
      "accuracy : 0.4375 precision : 0.4375 recall : 0.4375 f1 : 0.4375\n",
      "\n",
      "Epoch 5/8 , Step 13/16 train loss : 1.7720420013979836 \n",
      "accuracy : 0.375 precision : 0.375 recall : 0.375 f1 : 0.375\n",
      "\n",
      "Epoch 5/8 , Step 14/16 train loss : 1.7512390527147885 \n",
      "accuracy : 0.5 precision : 0.5 recall : 0.5 f1 : 0.5\n",
      "\n",
      "Epoch 5/8 , Step 15/16 train loss : 1.7591246608377447 \n",
      "accuracy : 0.375 precision : 0.375 recall : 0.375 f1 : 0.375\n",
      "\n",
      "Epoch 5/8 , Step 16/16 train loss : 1.7874426099516652 \n",
      "accuracy : 0.2 precision : 0.2 recall : 0.2 f1 : 0.20000000000000004\n",
      "\n",
      "Epoch 6/8 , Step 1/16 train loss : 2.0459713134852975 \n",
      "accuracy : 0.15625 precision : 0.15625 recall : 0.15625 f1 : 0.15625\n",
      "\n",
      "Epoch 6/8 , Step 2/16 train loss : 1.8885639213359136 \n",
      "accuracy : 0.3125 precision : 0.3125 recall : 0.3125 f1 : 0.3125\n",
      "\n",
      "Epoch 6/8 , Step 3/16 train loss : 1.8569604981194556 \n",
      "accuracy : 0.34375 precision : 0.34375 recall : 0.34375 f1 : 0.34375\n",
      "\n",
      "Epoch 6/8 , Step 4/16 train loss : 1.895646578882969 \n",
      "accuracy : 0.34375 precision : 0.34375 recall : 0.34375 f1 : 0.34375\n",
      "\n",
      "Epoch 6/8 , Step 5/16 train loss : 1.8444127553291967 \n",
      "accuracy : 0.4375 precision : 0.4375 recall : 0.4375 f1 : 0.4375\n",
      "\n",
      "Epoch 6/8 , Step 6/16 train loss : 1.7748622612653016 \n",
      "accuracy : 0.46875 precision : 0.46875 recall : 0.46875 f1 : 0.46875\n",
      "\n",
      "Epoch 6/8 , Step 7/16 train loss : 1.7501081998053591 \n",
      "accuracy : 0.34375 precision : 0.34375 recall : 0.34375 f1 : 0.34375\n",
      "\n",
      "Epoch 6/8 , Step 8/16 train loss : 1.7626314300774504 \n",
      "accuracy : 0.40625 precision : 0.40625 recall : 0.40625 f1 : 0.40625\n",
      "\n",
      "Epoch 6/8 , Step 9/16 train loss : 1.724428226867582 \n",
      "accuracy : 0.53125 precision : 0.53125 recall : 0.53125 f1 : 0.53125\n",
      "\n",
      "Epoch 6/8 , Step 10/16 train loss : 1.7057861937736614 \n",
      "accuracy : 0.46875 precision : 0.46875 recall : 0.46875 f1 : 0.46875\n",
      "\n",
      "Epoch 6/8 , Step 11/16 train loss : 1.7206241972854244 \n",
      "accuracy : 0.375 precision : 0.375 recall : 0.375 f1 : 0.375\n",
      "\n",
      "Epoch 6/8 , Step 12/16 train loss : 1.7201540698512228 \n",
      "accuracy : 0.40625 precision : 0.40625 recall : 0.40625 f1 : 0.40625\n",
      "\n",
      "Epoch 6/8 , Step 13/16 train loss : 1.72936174144038 \n",
      "accuracy : 0.40625 precision : 0.40625 recall : 0.40625 f1 : 0.40625\n",
      "\n",
      "Epoch 6/8 , Step 14/16 train loss : 1.7346653270692023 \n",
      "accuracy : 0.3125 precision : 0.3125 recall : 0.3125 f1 : 0.3125\n",
      "\n",
      "Epoch 6/8 , Step 15/16 train loss : 1.723125506616564 \n",
      "accuracy : 0.625 precision : 0.625 recall : 0.625 f1 : 0.625\n",
      "\n",
      "Epoch 6/8 , Step 16/16 train loss : 1.7190020812836913 \n",
      "accuracy : 0.5 precision : 0.5 recall : 0.5 f1 : 0.5\n",
      "\n",
      "Epoch 7/8 , Step 1/16 train loss : 1.666976512206718 \n",
      "accuracy : 0.375 precision : 0.375 recall : 0.375 f1 : 0.375\n",
      "\n",
      "Epoch 7/8 , Step 2/16 train loss : 1.6467901305081512 \n",
      "accuracy : 0.40625 precision : 0.40625 recall : 0.40625 f1 : 0.40625\n",
      "\n",
      "Epoch 7/8 , Step 3/16 train loss : 1.599383362368014 \n",
      "accuracy : 0.46875 precision : 0.46875 recall : 0.46875 f1 : 0.46875\n",
      "\n",
      "Epoch 7/8 , Step 4/16 train loss : 1.6001528223954096 \n",
      "accuracy : 0.375 precision : 0.375 recall : 0.375 f1 : 0.375\n",
      "\n",
      "Epoch 7/8 , Step 5/16 train loss : 1.521398930636456 \n",
      "accuracy : 0.65625 precision : 0.65625 recall : 0.65625 f1 : 0.65625\n",
      "\n",
      "Epoch 7/8 , Step 6/16 train loss : 1.6438940888317877 \n",
      "accuracy : 0.21875 precision : 0.21875 recall : 0.21875 f1 : 0.21875\n",
      "\n",
      "Epoch 7/8 , Step 7/16 train loss : 1.6020719506876142 \n",
      "accuracy : 0.625 precision : 0.625 recall : 0.625 f1 : 0.625\n",
      "\n",
      "Epoch 7/8 , Step 8/16 train loss : 1.6280401896145762 \n",
      "accuracy : 0.40625 precision : 0.40625 recall : 0.40625 f1 : 0.40625\n",
      "\n",
      "Epoch 7/8 , Step 9/16 train loss : 1.6236871716240855 \n",
      "accuracy : 0.53125 precision : 0.53125 recall : 0.53125 f1 : 0.53125\n",
      "\n",
      "Epoch 7/8 , Step 10/16 train loss : 1.6077398333989463 \n",
      "accuracy : 0.5625 precision : 0.5625 recall : 0.5625 f1 : 0.5625\n",
      "\n",
      "Epoch 7/8 , Step 11/16 train loss : 1.5875040715292323 \n",
      "accuracy : 0.5625 precision : 0.5625 recall : 0.5625 f1 : 0.5625\n",
      "\n",
      "Epoch 7/8 , Step 12/16 train loss : 1.6006100275301638 \n",
      "accuracy : 0.40625 precision : 0.40625 recall : 0.40625 f1 : 0.40625\n",
      "\n",
      "Epoch 7/8 , Step 13/16 train loss : 1.600947583321034 \n",
      "accuracy : 0.53125 precision : 0.53125 recall : 0.53125 f1 : 0.53125\n",
      "\n",
      "Epoch 7/8 , Step 14/16 train loss : 1.5964961098420918 \n",
      "accuracy : 0.53125 precision : 0.53125 recall : 0.53125 f1 : 0.53125\n",
      "\n",
      "Epoch 7/8 , Step 15/16 train loss : 1.59943079297681 \n",
      "accuracy : 0.40625 precision : 0.40625 recall : 0.40625 f1 : 0.40625\n",
      "\n",
      "Epoch 7/8 , Step 16/16 train loss : 1.6135286128862483 \n",
      "accuracy : 0.3 precision : 0.3 recall : 0.3 f1 : 0.3\n",
      "\n",
      "Epoch 8/8 , Step 1/16 train loss : 1.5312051633739432 \n",
      "accuracy : 0.4375 precision : 0.4375 recall : 0.4375 f1 : 0.4375\n",
      "\n",
      "Epoch 8/8 , Step 2/16 train loss : 1.4124666950774105 \n",
      "accuracy : 0.59375 precision : 0.59375 recall : 0.59375 f1 : 0.59375\n",
      "\n",
      "Epoch 8/8 , Step 3/16 train loss : 1.4424816891425192 \n",
      "accuracy : 0.5 precision : 0.5 recall : 0.5 f1 : 0.5\n",
      "\n",
      "Epoch 8/8 , Step 4/16 train loss : 1.4790091890472672 \n",
      "accuracy : 0.46875 precision : 0.46875 recall : 0.46875 f1 : 0.46875\n",
      "\n",
      "Epoch 8/8 , Step 5/16 train loss : 1.4962958332966 \n",
      "accuracy : 0.4375 precision : 0.4375 recall : 0.4375 f1 : 0.4375\n",
      "\n",
      "Epoch 8/8 , Step 6/16 train loss : 1.4741919292628636 \n",
      "accuracy : 0.59375 precision : 0.59375 recall : 0.59375 f1 : 0.59375\n",
      "\n",
      "Epoch 8/8 , Step 7/16 train loss : 1.4858488060161272 \n",
      "accuracy : 0.46875 precision : 0.46875 recall : 0.46875 f1 : 0.46875\n",
      "\n",
      "Epoch 8/8 , Step 8/16 train loss : 1.4762042680912684 \n",
      "accuracy : 0.4375 precision : 0.4375 recall : 0.4375 f1 : 0.4375\n",
      "\n",
      "Epoch 8/8 , Step 9/16 train loss : 1.4962632674359897 \n",
      "accuracy : 0.40625 precision : 0.40625 recall : 0.40625 f1 : 0.40625\n",
      "\n",
      "Epoch 8/8 , Step 10/16 train loss : 1.4867006921763297 \n",
      "accuracy : 0.4375 precision : 0.4375 recall : 0.4375 f1 : 0.4375\n",
      "\n",
      "Epoch 8/8 , Step 11/16 train loss : 1.4848630812716097 \n",
      "accuracy : 0.46875 precision : 0.46875 recall : 0.46875 f1 : 0.46875\n",
      "\n",
      "Epoch 8/8 , Step 12/16 train loss : 1.5044646709343004 \n",
      "accuracy : 0.4375 precision : 0.4375 recall : 0.4375 f1 : 0.4375\n",
      "\n",
      "Epoch 8/8 , Step 13/16 train loss : 1.4917119862172197 \n",
      "accuracy : 0.59375 precision : 0.59375 recall : 0.59375 f1 : 0.59375\n",
      "\n",
      "Epoch 8/8 , Step 14/16 train loss : 1.4666665928871974 \n",
      "accuracy : 0.65625 precision : 0.65625 recall : 0.65625 f1 : 0.65625\n",
      "\n",
      "Epoch 8/8 , Step 15/16 train loss : 1.4618532300121667 \n",
      "accuracy : 0.4375 precision : 0.4375 recall : 0.4375 f1 : 0.4375\n",
      "\n",
      "Epoch 8/8 , Step 16/16 train loss : 1.4667242207115627 \n",
      "accuracy : 0.45 precision : 0.45 recall : 0.45 f1 : 0.45\n",
      "\n"
     ]
    },
    {
     "ename": "FileNotFoundError",
     "evalue": "[Errno 2] No such file or directory: '/mnt/7A8AE5368AE4EF95/Saarland DSAI/WiSe 2022-23/NNTI/(main)NNTI 22-23-20230309T131036Z-001/NNTI22-23/data/dev/test'",
     "output_type": "error",
     "traceback": [
      "\u001b[0;31m---------------------------------------------------------------------------\u001b[0m",
      "\u001b[0;31mFileNotFoundError\u001b[0m                         Traceback (most recent call last)",
      "\u001b[0;32m/tmp/ipykernel_6140/993032278.py\u001b[0m in \u001b[0;36m<module>\u001b[0;34m\u001b[0m\n\u001b[1;32m     60\u001b[0m     \u001b[0;31m# calculate metrics for each speaker in the test dataset\u001b[0m\u001b[0;34m\u001b[0m\u001b[0;34m\u001b[0m\u001b[0;34m\u001b[0m\u001b[0m\n\u001b[1;32m     61\u001b[0m     \u001b[0mTEST_PTH\u001b[0m  \u001b[0;34m=\u001b[0m \u001b[0mos\u001b[0m\u001b[0;34m.\u001b[0m\u001b[0mpath\u001b[0m\u001b[0;34m.\u001b[0m\u001b[0mjoin\u001b[0m\u001b[0;34m(\u001b[0m\u001b[0mos\u001b[0m\u001b[0;34m.\u001b[0m\u001b[0mgetcwd\u001b[0m\u001b[0;34m(\u001b[0m\u001b[0;34m)\u001b[0m\u001b[0;34m,\u001b[0m \u001b[0;34m'data'\u001b[0m\u001b[0;34m,\u001b[0m \u001b[0mspeaker\u001b[0m\u001b[0;34m,\u001b[0m\u001b[0;34m'test'\u001b[0m\u001b[0;34m)\u001b[0m\u001b[0;34m\u001b[0m\u001b[0;34m\u001b[0m\u001b[0m\n\u001b[0;32m---> 62\u001b[0;31m     \u001b[0mtest\u001b[0m\u001b[0;34m(\u001b[0m\u001b[0mmodel\u001b[0m\u001b[0;34m,\u001b[0m \u001b[0mTEST_PTH\u001b[0m\u001b[0;34m,\u001b[0m \u001b[0mloss\u001b[0m\u001b[0;34m,\u001b[0m \u001b[0mraw_augment_test\u001b[0m\u001b[0;34m,\u001b[0m\u001b[0mtransform\u001b[0m\u001b[0;34m,\u001b[0m \u001b[0mspec_augment_test\u001b[0m\u001b[0;34m,\u001b[0m \u001b[0mdevice\u001b[0m\u001b[0;34m,\u001b[0m \u001b[0mSR\u001b[0m\u001b[0;34m,\u001b[0m\u001b[0mspeaker\u001b[0m\u001b[0;34m)\u001b[0m\u001b[0;34m\u001b[0m\u001b[0;34m\u001b[0m\u001b[0m\n\u001b[0m\u001b[1;32m     63\u001b[0m \u001b[0;34m\u001b[0m\u001b[0m\n",
      "\u001b[0;32m/mnt/7A8AE5368AE4EF95/Saarland DSAI/WiSe 2022-23/NNTI/(main)NNTI 22-23-20230309T131036Z-001/NNTI22-23/helpers/train_augment.py\u001b[0m in \u001b[0;36mtest\u001b[0;34m(model, TEST_PTH, loss, raw_augment, transform, spec_augment, device, sr, speaker)\u001b[0m\n\u001b[1;32m     76\u001b[0m     \u001b[0mmodel\u001b[0m\u001b[0;34m.\u001b[0m\u001b[0meval\u001b[0m\u001b[0;34m(\u001b[0m\u001b[0;34m)\u001b[0m\u001b[0;34m\u001b[0m\u001b[0;34m\u001b[0m\u001b[0m\n\u001b[1;32m     77\u001b[0m \u001b[0;34m\u001b[0m\u001b[0m\n\u001b[0;32m---> 78\u001b[0;31m     \u001b[0mtestDataSet\u001b[0m \u001b[0;34m=\u001b[0m \u001b[0mCustomAudioDatasetAug\u001b[0m\u001b[0;34m(\u001b[0m\u001b[0mTEST_PTH\u001b[0m\u001b[0;34m,\u001b[0m \u001b[0msr\u001b[0m\u001b[0;34m,\u001b[0m \u001b[0mraw_augment\u001b[0m\u001b[0;34m,\u001b[0m\u001b[0mtransform\u001b[0m\u001b[0;34m,\u001b[0m\u001b[0mspec_augment\u001b[0m\u001b[0;34m)\u001b[0m\u001b[0;34m\u001b[0m\u001b[0;34m\u001b[0m\u001b[0m\n\u001b[0m\u001b[1;32m     79\u001b[0m     \u001b[0mtrainLoader\u001b[0m \u001b[0;34m=\u001b[0m \u001b[0mDataLoader\u001b[0m\u001b[0;34m(\u001b[0m\u001b[0mtestDataSet\u001b[0m\u001b[0;34m,\u001b[0m \u001b[0mbatch_size\u001b[0m  \u001b[0;34m=\u001b[0m \u001b[0;36m32\u001b[0m\u001b[0;34m)\u001b[0m\u001b[0;34m\u001b[0m\u001b[0;34m\u001b[0m\u001b[0m\n\u001b[1;32m     80\u001b[0m     \u001b[0mlenDataSet\u001b[0m  \u001b[0;34m=\u001b[0m \u001b[0mlen\u001b[0m\u001b[0;34m(\u001b[0m\u001b[0mtrainLoader\u001b[0m\u001b[0;34m)\u001b[0m\u001b[0;34m\u001b[0m\u001b[0;34m\u001b[0m\u001b[0m\n",
      "\u001b[0;32m/mnt/7A8AE5368AE4EF95/Saarland DSAI/WiSe 2022-23/NNTI/(main)NNTI 22-23-20230309T131036Z-001/NNTI22-23/helpers/CustomAudioDataset.py\u001b[0m in \u001b[0;36m__init__\u001b[0;34m(self, audio_dir, sr, raw_augment, transform, spec_augment)\u001b[0m\n\u001b[1;32m     33\u001b[0m     \u001b[0;32mdef\u001b[0m \u001b[0m__init__\u001b[0m\u001b[0;34m(\u001b[0m\u001b[0mself\u001b[0m\u001b[0;34m,\u001b[0m \u001b[0maudio_dir\u001b[0m\u001b[0;34m,\u001b[0m \u001b[0msr\u001b[0m\u001b[0;34m,\u001b[0m \u001b[0mraw_augment\u001b[0m\u001b[0;34m,\u001b[0m \u001b[0mtransform\u001b[0m\u001b[0;34m,\u001b[0m \u001b[0mspec_augment\u001b[0m\u001b[0;34m)\u001b[0m\u001b[0;34m:\u001b[0m\u001b[0;34m\u001b[0m\u001b[0;34m\u001b[0m\u001b[0m\n\u001b[1;32m     34\u001b[0m         \u001b[0mself\u001b[0m\u001b[0;34m.\u001b[0m\u001b[0maudio_dir\u001b[0m   \u001b[0;34m=\u001b[0m \u001b[0maudio_dir\u001b[0m\u001b[0;34m\u001b[0m\u001b[0;34m\u001b[0m\u001b[0m\n\u001b[0;32m---> 35\u001b[0;31m         \u001b[0mself\u001b[0m\u001b[0;34m.\u001b[0m\u001b[0maudio_files\u001b[0m \u001b[0;34m=\u001b[0m \u001b[0mos\u001b[0m\u001b[0;34m.\u001b[0m\u001b[0mlistdir\u001b[0m\u001b[0;34m(\u001b[0m\u001b[0maudio_dir\u001b[0m\u001b[0;34m)\u001b[0m\u001b[0;34m\u001b[0m\u001b[0;34m\u001b[0m\u001b[0m\n\u001b[0m\u001b[1;32m     36\u001b[0m         \u001b[0mself\u001b[0m\u001b[0;34m.\u001b[0m\u001b[0mraw_augment\u001b[0m \u001b[0;34m=\u001b[0m \u001b[0mraw_augment\u001b[0m\u001b[0;34m\u001b[0m\u001b[0;34m\u001b[0m\u001b[0m\n\u001b[1;32m     37\u001b[0m         \u001b[0mself\u001b[0m\u001b[0;34m.\u001b[0m\u001b[0mtransform\u001b[0m   \u001b[0;34m=\u001b[0m \u001b[0mtransform\u001b[0m\u001b[0;34m\u001b[0m\u001b[0;34m\u001b[0m\u001b[0m\n",
      "\u001b[0;31mFileNotFoundError\u001b[0m: [Errno 2] No such file or directory: '/mnt/7A8AE5368AE4EF95/Saarland DSAI/WiSe 2022-23/NNTI/(main)NNTI 22-23-20230309T131036Z-001/NNTI22-23/data/dev/test'"
     ]
    }
   ],
   "source": [
    "'''\n",
    "This is the main training loop of the training on a single speaker with augmentation applied to the dataset.\n",
    "'''\n",
    "# speaker to train on\n",
    "speaker = 'theo'\n",
    "\n",
    "# define paths\n",
    "DATA_PATH = os.path.join(os.getcwd(), 'speech_data')\n",
    "MDT_PATH  = os.path.join(os.getcwd(), 'SDR_metadata.tsv')\n",
    "\n",
    "# split the training and testing data based on the metadata.tsv\n",
    "split_train_test_speaker_by_mtdata(DATA_PATH, MDT_PATH)\n",
    "\n",
    "# define the hyperparameters\n",
    "epochs = 8\n",
    "SR     = 8000\n",
    "batch_size = 32\n",
    "\n",
    "# define the augmentations to be applied on the raw wave file\n",
    "raw_augment_train = transforms.Compose([\n",
    "                    IdentityTransform(),\n",
    "                    NoiseTransform(),\n",
    "                     TimeShiftTransform(),\n",
    "                     TimeStretchingTransform(),\n",
    "                    ])\n",
    "\n",
    "raw_augment_test = transforms.Compose([\n",
    "                    # NoiseTransform(),\n",
    "                    #  TimeShiftTransform(),\n",
    "                    #  TimeStretchingTransform(),\n",
    "                    ])\n",
    "\n",
    "# transform to generate mel_spectrogram\n",
    "transform = transforms.Compose([transformMelSpecByTruncate1D(),])\n",
    "\n",
    "# define the augmentations to be applied on the spectrograms\n",
    "spec_augment_train = transforms.Compose([\n",
    "                   SpecAugment()\n",
    "                    ])\n",
    "\n",
    "spec_augment_test = transforms.Compose([\n",
    "                    # NoiseTransform(),\n",
    "                    #  TimeShiftTransform(),\n",
    "                    #  TimeStretchingTransform(),\n",
    "                    ])\n",
    "\n",
    "\n",
    "# define the model\n",
    "model = CNN1D()\n",
    "# define the optimizer\n",
    "optimizer = SGD(model.parameters(), lr = 0.01)\n",
    "# define the loss criterion\n",
    "loss  = nn.CrossEntropyLoss()\n",
    "\n",
    "# call the training function\n",
    "model = train(model, loss, optimizer, None, device, epochs, raw_augment_train, transform, spec_augment_train, SR, batch_size, speaker=speaker,val=False)\n",
    "\n",
    "# testing loop\n",
    "for speaker in os.listdir(os.path.join(os.getcwd(), 'data')):\n",
    "    # calculate metrics for each speaker in the test dataset\n",
    "    TEST_PTH  = os.path.join(os.getcwd(), 'data', speaker,'test')\n",
    "    test(model, TEST_PTH, loss, raw_augment_test,transform, spec_augment_test, device, SR,speaker)\n",
    "\n"
   ]
  },
  {
   "cell_type": "code",
   "execution_count": null,
   "id": "8810c1f3",
   "metadata": {},
   "outputs": [],
   "source": []
  },
  {
   "cell_type": "code",
   "execution_count": null,
   "id": "fc29fb19",
   "metadata": {},
   "outputs": [],
   "source": []
  }
 ],
 "metadata": {
  "colab": {
   "collapsed_sections": [
    "454e0124",
    "61601679-f2f0-437a-8233-54c5ab0cac17",
    "6a0a0884",
    "6ab5f7e7",
    "d2a0c08e",
    "d5392b92",
    "1bbe63ed",
    "8f95e312"
   ],
   "provenance": []
  },
  "kernelspec": {
   "display_name": "Python 3 (ipykernel)",
   "language": "python",
   "name": "python3"
  },
  "language_info": {
   "codemirror_mode": {
    "name": "ipython",
    "version": 3
   },
   "file_extension": ".py",
   "mimetype": "text/x-python",
   "name": "python",
   "nbconvert_exporter": "python",
   "pygments_lexer": "ipython3",
   "version": "3.7.16"
  }
 },
 "nbformat": 4,
 "nbformat_minor": 5
}
